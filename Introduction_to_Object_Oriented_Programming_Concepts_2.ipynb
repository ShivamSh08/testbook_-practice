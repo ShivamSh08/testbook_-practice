{
 "cells": [
  {
   "cell_type": "markdown",
   "metadata": {},
   "source": [
    "Inheritance  "
   ]
  },
  {
   "cell_type": "code",
   "execution_count": 10,
   "metadata": {},
   "outputs": [
    {
     "name": "stdout",
     "output_type": "stream",
     "text": [
      "Satyam 102\n"
     ]
    }
   ],
   "source": [
    "# A Python program to demonstrate inheritance\n",
    "\n",
    "class Person(object):\n",
    "# Constructor\n",
    "  def __init__(self, name, id):\n",
    "    self.name = name\n",
    "    self.id = id\n",
    "\t  \n",
    "\t\n",
    "# To check if this person is an employee\n",
    "  def Display(self):\n",
    "\t  print(self.name, self.id)\n",
    "\n",
    "\n",
    "# Driver code\n",
    "emp = Person(\"Satyam\", 102) # An Object of Person\n",
    "emp.Display()\n"
   ]
  },
  {
   "cell_type": "code",
   "execution_count": 11,
   "metadata": {},
   "outputs": [
    {
     "name": "stdout",
     "output_type": "stream",
     "text": [
      "Rahul\n",
      "886012\n"
     ]
    }
   ],
   "source": [
    "# Python code to demonstrate how parent constructors\n",
    "# are called.\n",
    "\n",
    "# parent class\n",
    "class Person(object):\n",
    "\n",
    "\t# __init__ is known as the constructor\n",
    "\tdef __init__(self, name, idnumber):\n",
    "\t\tself.name = name\n",
    "\t\tself.idnumber = idnumber\n",
    "\n",
    "\tdef display(self):\n",
    "\t\tprint(self.name)\n",
    "\t\tprint(self.idnumber)\n",
    "\n",
    "# child class\n",
    "\n",
    "\n",
    "class Employee(Person):\n",
    "\tdef __init__(self, name, idnumber, salary, post):\n",
    "\t\tself.salary = salary\n",
    "\t\tself.post = post\n",
    "\n",
    "\t\t# invoking the __init__ of the parent class\n",
    "\t\tPerson.__init__(self, name, idnumber)\n",
    "\n",
    "\n",
    "# creation of an object variable or an instance\n",
    "a = Employee('Rahul', 886012, 200000, \"Intern\")\n",
    "\n",
    "# calling a function of the class Person using its instance\n",
    "a.display()\n"
   ]
  },
  {
   "cell_type": "markdown",
   "metadata": {},
   "source": [
    "Polymorphism"
   ]
  },
  {
   "cell_type": "code",
   "execution_count": 13,
   "metadata": {},
   "outputs": [
    {
     "name": "stdout",
     "output_type": "stream",
     "text": [
      "5\n"
     ]
    }
   ],
   "source": [
    "# A simple Python function to demonstrate\n",
    "# Polymorphism\n",
    "\n",
    "def add(x, y, z = 0):\n",
    "\treturn x + y+z\n",
    "\n",
    "\n",
    "\n",
    "# Driver code\n",
    "\n",
    "print(add(2, 3))\n"
   ]
  },
  {
   "cell_type": "code",
   "execution_count": 14,
   "metadata": {},
   "outputs": [
    {
     "name": "stdout",
     "output_type": "stream",
     "text": [
      "New Delhi is the capital of India.\n",
      "Hindi is the most widely spoken language of India.\n",
      "India is a developing country.\n",
      "Washington, D.C. is the capital of USA.\n",
      "English is the primary language of USA.\n",
      "USA is a developed country.\n"
     ]
    }
   ],
   "source": [
    "class India():\n",
    "\tdef capital(self):\n",
    "\t\tprint(\"New Delhi is the capital of India.\")\n",
    "\n",
    "\tdef language(self):\n",
    "\t\tprint(\"Hindi is the most widely spoken language of India.\")\n",
    "\n",
    "\tdef type(self):\n",
    "\t\tprint(\"India is a developing country.\")\n",
    "\n",
    "class USA():\n",
    "\tdef capital(self):\n",
    "\t\tprint(\"Washington, D.C. is the capital of USA.\")\n",
    "\n",
    "\tdef language(self):\n",
    "\t\tprint(\"English is the primary language of USA.\")\n",
    "\n",
    "\tdef type(self):\n",
    "\t\tprint(\"USA is a developed country.\")\n",
    "\n",
    "obj_ind = India()\n",
    "obj_usa = USA()\n",
    "for country in (obj_ind, obj_usa):\n",
    "\tcountry.capital()\n",
    "\tcountry.language()\n",
    "\tcountry.type()\n"
   ]
  }
 ],
 "metadata": {
  "kernelspec": {
   "display_name": "Python 3 (ipykernel)",
   "language": "python",
   "name": "python3"
  },
  "language_info": {
   "codemirror_mode": {
    "name": "ipython",
    "version": 3
   },
   "file_extension": ".py",
   "mimetype": "text/x-python",
   "name": "python",
   "nbconvert_exporter": "python",
   "pygments_lexer": "ipython3",
   "version": "3.9.7"
  },
  "orig_nbformat": 4,
  "vscode": {
   "interpreter": {
    "hash": "cc9ec3f49ca67ec5ffe786336c54717ee20d4fd564dd1079878ad90c0d7cca1c"
   }
  }
 },
 "nbformat": 4,
 "nbformat_minor": 2
}
