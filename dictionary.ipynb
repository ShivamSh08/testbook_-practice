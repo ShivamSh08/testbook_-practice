{
 "cells": [
  {
   "cell_type": "markdown",
   "metadata": {},
   "source": [
    "Dictionary Declaration "
   ]
  },
  {
   "cell_type": "code",
   "execution_count": 7,
   "metadata": {},
   "outputs": [
    {
     "name": "stdout",
     "output_type": "stream",
     "text": [
      "('Hello', 'World', 'Everyone', 'Hello')\n"
     ]
    }
   ],
   "source": [
    "di={\"One\":1,\"Two\":2,\"Three\":3}\n",
    "print(di)"
   ]
  },
  {
   "cell_type": "code",
   "execution_count": 19,
   "metadata": {},
   "outputs": [
    {
     "data": {
      "text/plain": [
       "1"
      ]
     },
     "execution_count": 19,
     "metadata": {},
     "output_type": "execute_result"
    }
   ],
   "source": [
    "di={\"One\":1,\"Two\":2,\"Three\":3}\n",
    "di[\"One\"]"
   ]
  },
  {
   "cell_type": "code",
   "execution_count": 20,
   "metadata": {},
   "outputs": [
    {
     "name": "stdout",
     "output_type": "stream",
     "text": [
      "{'One': 1, 'Two': 2, 'Three': 3}\n",
      "{'One': 11, 'Two': 2, 'Three': 3}\n"
     ]
    }
   ],
   "source": [
    "di={\"One\":1,\"Two\":2,\"Three\":3}\n",
    "print(di)\n",
    "di[\"One\"]=11\n",
    "print(di)"
   ]
  },
  {
   "cell_type": "markdown",
   "metadata": {},
   "source": [
    "Dictionary Methods"
   ]
  },
  {
   "cell_type": "code",
   "execution_count": 21,
   "metadata": {},
   "outputs": [
    {
     "data": {
      "text/plain": [
       "1"
      ]
     },
     "execution_count": 21,
     "metadata": {},
     "output_type": "execute_result"
    }
   ],
   "source": [
    "#get\n",
    "di={\"One\":1,\"Two\":2,\"Three\":3}\n",
    "di.get(\"One\")"
   ]
  },
  {
   "cell_type": "code",
   "execution_count": 22,
   "metadata": {},
   "outputs": [
    {
     "name": "stdout",
     "output_type": "stream",
     "text": [
      "dict_keys(['One', 'Two', 'Three'])\n"
     ]
    }
   ],
   "source": [
    "#key\n",
    "di={\"One\":1,\"Two\":2,\"Three\":3}\n",
    "print(di.keys())"
   ]
  },
  {
   "cell_type": "code",
   "execution_count": 23,
   "metadata": {},
   "outputs": [
    {
     "name": "stdout",
     "output_type": "stream",
     "text": [
      "dict_items([('One', 1), ('Two', 2), ('Three', 3)])\n"
     ]
    }
   ],
   "source": [
    "#Items\n",
    "di={\"One\":1,\"Two\":2,\"Three\":3}\n",
    "print(di.items())\n"
   ]
  },
  {
   "cell_type": "code",
   "execution_count": 18,
   "metadata": {},
   "outputs": [
    {
     "name": "stdout",
     "output_type": "stream",
     "text": [
      "9\n"
     ]
    }
   ],
   "source": [
    "#update\n",
    "car = {\n",
    "  \"brand\": \"Ford\",\n",
    "  \"model\": \"Mustang\",\n",
    "  \"year\": 1964\n",
    "}\n",
    "\n",
    "car.update({\"color\": \"White\"})\n"
   ]
  },
  {
   "cell_type": "code",
   "execution_count": null,
   "metadata": {},
   "outputs": [],
   "source": [
    "#Items\n",
    "di={\"One\":1,\"Two\":2,\"Three\":3}\n",
    "print(di)\n",
    "di.clear()\n",
    "print(di)"
   ]
  }
 ],
 "metadata": {
  "kernelspec": {
   "display_name": "Python 3.9.7 ('base')",
   "language": "python",
   "name": "python3"
  },
  "language_info": {
   "codemirror_mode": {
    "name": "ipython",
    "version": 3
   },
   "file_extension": ".py",
   "mimetype": "text/x-python",
   "name": "python",
   "nbconvert_exporter": "python",
   "pygments_lexer": "ipython3",
   "version": "3.9.7"
  },
  "orig_nbformat": 4,
  "vscode": {
   "interpreter": {
    "hash": "cc9ec3f49ca67ec5ffe786336c54717ee20d4fd564dd1079878ad90c0d7cca1c"
   }
  }
 },
 "nbformat": 4,
 "nbformat_minor": 2
}
