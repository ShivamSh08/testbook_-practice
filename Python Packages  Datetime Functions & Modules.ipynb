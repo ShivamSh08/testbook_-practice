{
 "cells": [
  {
   "cell_type": "markdown",
   "metadata": {},
   "source": [
    "# Python Packages  Datetime Functions & Modules"
   ]
  },
  {
   "cell_type": "markdown",
   "metadata": {},
   "source": [
    "### Python Packages"
   ]
  },
  {
   "cell_type": "code",
   "execution_count": 22,
   "metadata": {},
   "outputs": [
    {
     "name": "stdout",
     "output_type": "stream",
     "text": [
      "3.141592653589793\n"
     ]
    }
   ],
   "source": [
    "# import module by renaming it\n",
    "import math as m\n",
    "print(m.pi)"
   ]
  },
  {
   "cell_type": "code",
   "execution_count": 23,
   "metadata": {},
   "outputs": [
    {
     "name": "stdout",
     "output_type": "stream",
     "text": [
      "3.141592653589793\n"
     ]
    }
   ],
   "source": [
    "# import only pi from math module\n",
    "from math import pi\n",
    "print(pi)"
   ]
  },
  {
   "cell_type": "code",
   "execution_count": 24,
   "metadata": {},
   "outputs": [
    {
     "name": "stdout",
     "output_type": "stream",
     "text": [
      "The value of pi is 3.141592653589793\n"
     ]
    }
   ],
   "source": [
    "# import all names from the standard module math\n",
    "from math import *\n",
    "print(\"The value of pi is\", pi)"
   ]
  },
  {
   "cell_type": "markdown",
   "metadata": {},
   "source": [
    "### Python Modules"
   ]
  },
  {
   "cell_type": "code",
   "execution_count": 1,
   "metadata": {},
   "outputs": [
    {
     "name": "stdout",
     "output_type": "stream",
     "text": [
      "Counter({1: 4, 3: 4, 4: 2, 5: 2, 6: 2, 2: 1})\n"
     ]
    }
   ],
   "source": [
    "from collections import Counter\n",
    "a = [1,1,1,1,2,3,3,4,3,3,4,5,5,6,6]\n",
    "c = Counter(a)\n",
    "print(c)"
   ]
  },
  {
   "cell_type": "code",
   "execution_count": 3,
   "metadata": {},
   "outputs": [
    {
     "name": "stdout",
     "output_type": "stream",
     "text": [
      "OrderedDict([(1, 't'), (2, 'e'), (3, 's'), (4, 't'), (5, 'b'), (6, 'o'), (7, 'o'), (8, 'k')])\n"
     ]
    }
   ],
   "source": [
    "from collections import OrderedDict\n",
    "od = OrderedDict()\n",
    "od[1] = 't'\n",
    "od[2] = 'e'\n",
    "od[3] = 's'\n",
    "od[4] = 't'\n",
    "od[5] = 'b'\n",
    "od[6] = 'o'\n",
    "od[7] = 'o'\n",
    "od[8] = 'k'\n",
    "print(od)"
   ]
  },
  {
   "cell_type": "code",
   "execution_count": 4,
   "metadata": {},
   "outputs": [
    {
     "name": "stdout",
     "output_type": "stream",
     "text": [
      "deque(['p', 'y', 't', 'h', 'o', 'n'])\n",
      "deque(['p', 'y', 't', 'h', 'o', 'n', 's'])\n",
      "deque(['s', 'p', 'y', 't', 'h', 'o', 'n', 's'])\n",
      "deque(['s', 'p', 'y', 't', 'h', 'o', 'n'])\n",
      "deque(['p', 'y', 't', 'h', 'o', 'n'])\n"
     ]
    }
   ],
   "source": [
    "#creating a deque\n",
    "from collections import deque \n",
    "a = ['p' , 'y' , 't' , 'h' , 'o', 'n']\n",
    "a1 = deque(a)\n",
    "print(a1)\n",
    "#insert\n",
    "a1.append('s')\n",
    "print(a1)\n",
    "a1.appendleft('s')\n",
    "print(a1)\n",
    "#remove\n",
    "a1.pop()\n",
    "print(a1)\n",
    "a1.popleft()\n",
    "print(a1)"
   ]
  },
  {
   "cell_type": "code",
   "execution_count": 5,
   "metadata": {},
   "outputs": [
    {
     "name": "stdout",
     "output_type": "stream",
     "text": [
      "courses(name='data science', tech='python')\n"
     ]
    }
   ],
   "source": [
    "from collections import namedtuple\n",
    "a = namedtuple('courses' , 'name , tech')\n",
    "s = a('data science' , 'python')\n",
    "print(s)"
   ]
  },
  {
   "cell_type": "code",
   "execution_count": 6,
   "metadata": {},
   "outputs": [
    {
     "name": "stdout",
     "output_type": "stream",
     "text": [
      "The cartesian product using repeat:\n",
      "[(1, 1), (1, 2), (2, 1), (2, 2)]\n",
      "\n",
      "The cartesian product of the containers:\n",
      "[('python', '3'), ('for', '3'), ('datascience', '3')]\n",
      "\n",
      "The cartesian product of the containers:\n",
      "[('A', 1), ('A', 2), ('B', 1), ('B', 2)]\n"
     ]
    }
   ],
   "source": [
    "# import the product function from itertools module\n",
    "from itertools import product\n",
    "   \n",
    "print(\"The cartesian product using repeat:\")\n",
    "print(list(product([1, 2], repeat = 2)))\n",
    "print()\n",
    "   \n",
    "print(\"The cartesian product of the containers:\")\n",
    "print(list(product(['python', 'for', 'datascience'], '3')))\n",
    "print()\n",
    "   \n",
    "print(\"The cartesian product of the containers:\")\n",
    "print(list(product('AB', [1, 2])))"
   ]
  },
  {
   "cell_type": "code",
   "execution_count": 7,
   "metadata": {},
   "outputs": [
    {
     "name": "stdout",
     "output_type": "stream",
     "text": [
      "All the permutations of the given list is:\n",
      "[(1, 'python'), ('python', 1)]\n",
      "\n",
      "All the permutations of the given string is:\n",
      "[('A', 'B'), ('B', 'A')]\n",
      "\n",
      "All the permutations of the given container is:\n",
      "[(0, 1), (0, 2), (1, 0), (1, 2), (2, 0), (2, 1)]\n"
     ]
    }
   ],
   "source": [
    "# import the product function from itertools module\n",
    "from itertools import permutations\n",
    "   \n",
    "print (\"All the permutations of the given list is:\") \n",
    "print (list(permutations([1, 'python'], 2)))\n",
    "print()\n",
    "  \n",
    "print (\"All the permutations of the given string is:\") \n",
    "print (list(permutations('AB')))\n",
    "print()\n",
    "   \n",
    "print (\"All the permutations of the given container is:\") \n",
    "print(list(permutations(range(3), 2)))"
   ]
  },
  {
   "cell_type": "code",
   "execution_count": 8,
   "metadata": {},
   "outputs": [
    {
     "name": "stdout",
     "output_type": "stream",
     "text": [
      "All the combination of list in sorted order(without replacement) is:\n",
      "[('A', 2)]\n",
      "\n",
      "All the combination of string in sorted order(without replacement) is:\n",
      "[('A', 'B')]\n",
      "\n",
      "All the combination of list in sorted order(without replacement) is:\n",
      "[(0,), (1,)]\n"
     ]
    }
   ],
   "source": [
    "# import combinations from itertools module\n",
    "\n",
    "from itertools import combinations\n",
    "\n",
    "print (\"All the combination of list in sorted order(without replacement) is:\")\n",
    "print(list(combinations(['A', 2], 2)))\n",
    "print()\n",
    "\n",
    "print (\"All the combination of string in sorted order(without replacement) is:\")\n",
    "print(list(combinations('AB', 2)))\n",
    "print()\n",
    "\n",
    "print (\"All the combination of list in sorted order(without replacement) is:\")\n",
    "print(list(combinations(range(2), 1)))"
   ]
  },
  {
   "cell_type": "code",
   "execution_count": 9,
   "metadata": {},
   "outputs": [
    {
     "name": "stdout",
     "output_type": "stream",
     "text": [
      "All the combination of string in sorted order(with replacement) is:\n",
      "[('A', 'A'), ('A', 'B'), ('B', 'B')]\n",
      "\n",
      "All the combination of list in sorted order(with replacement) is:\n",
      "[(1, 1), (1, 2), (2, 2)]\n",
      "\n",
      "All the combination of container in sorted order(with replacement) is:\n",
      "[(0,), (1,)]\n"
     ]
    }
   ],
   "source": [
    "# import combinations from itertools module\n",
    "   \n",
    "from itertools import combinations_with_replacement\n",
    "   \n",
    "print (\"All the combination of string in sorted order(with replacement) is:\")\n",
    "print(list(combinations_with_replacement(\"AB\", 2)))\n",
    "print()\n",
    "   \n",
    "print (\"All the combination of list in sorted order(with replacement) is:\")\n",
    "print(list(combinations_with_replacement([1, 2], 2)))\n",
    "print()\n",
    "   \n",
    "print (\"All the combination of container in sorted order(with replacement) is:\")\n",
    "print(list(combinations_with_replacement(range(2), 1)))"
   ]
  },
  {
   "cell_type": "markdown",
   "metadata": {},
   "source": [
    "### Datetime Functions"
   ]
  },
  {
   "cell_type": "code",
   "execution_count": 11,
   "metadata": {},
   "outputs": [
    {
     "name": "stdout",
     "output_type": "stream",
     "text": [
      "time.struct_time(tm_year=2022, tm_mon=11, tm_mday=24, tm_hour=19, tm_min=46, tm_sec=55, tm_wday=3, tm_yday=328, tm_isdst=0)\n",
      "Thu Nov 24 19:46:55 2022\n",
      "2022-11-24 19:46:55.938418\n",
      "2022-11-24\n",
      "2022\n",
      "24\n",
      "11\n"
     ]
    }
   ],
   "source": [
    "import time;    \n",
    "print(time.localtime(time.time()))  \n",
    "\n",
    "import time    \n",
    "  #returns the formatted time       \n",
    "print(time.asctime(time.localtime(time.time()))) \n",
    "import datetime  \n",
    " #returns the current datetime object     \n",
    "print(datetime.datetime.now())    \n",
    "\n",
    "import datetime as dt\n",
    "\n",
    "today = dt.date.today() \n",
    "today_year = dt.date.today().year\n",
    "today_day = dt.date.today().day\n",
    "today_month = dt.date.today().month\n",
    "\n",
    "print(today)        \n",
    "print(today_year)    \n",
    "print(today_day)     \n",
    "print(today_month)  "
   ]
  },
  {
   "cell_type": "code",
   "execution_count": 12,
   "metadata": {},
   "outputs": [
    {
     "name": "stdout",
     "output_type": "stream",
     "text": [
      "Relaxing hours\n"
     ]
    }
   ],
   "source": [
    "from datetime import datetime as dt    \n",
    "#Compare the time. If the time is in between 8AM and 4PM, then it prints working hours otherwise it prints Relaxing hours    \n",
    "if dt(dt.now().year,dt.now().month,dt.now().day,8)<dt.now()<dt(dt.now().year,dt.now().month,dt.now().day,16):    \n",
    "    print(\"Working hours....\")    \n",
    "else:    \n",
    "    print(\"Relaxing hours\") "
   ]
  },
  {
   "cell_type": "code",
   "execution_count": 13,
   "metadata": {},
   "outputs": [
    {
     "name": "stdout",
     "output_type": "stream",
     "text": [
      "     June 2022\n",
      "Mo Tu We Th Fr Sa Su\n",
      "       1  2  3  4  5\n",
      " 6  7  8  9 10 11 12\n",
      "13 14 15 16 17 18 19\n",
      "20 21 22 23 24 25 26\n",
      "27 28 29 30\n",
      "\n",
      "                                  2022\n",
      "\n",
      "      January                   February                   March\n",
      "Mo Tu We Th Fr Sa Su      Mo Tu We Th Fr Sa Su      Mo Tu We Th Fr Sa Su\n",
      "                1  2          1  2  3  4  5  6          1  2  3  4  5  6\n",
      " 3  4  5  6  7  8  9       7  8  9 10 11 12 13       7  8  9 10 11 12 13\n",
      "10 11 12 13 14 15 16      14 15 16 17 18 19 20      14 15 16 17 18 19 20\n",
      "17 18 19 20 21 22 23      21 22 23 24 25 26 27      21 22 23 24 25 26 27\n",
      "24 25 26 27 28 29 30      28                        28 29 30 31\n",
      "31\n",
      "\n",
      "       April                      May                       June\n",
      "Mo Tu We Th Fr Sa Su      Mo Tu We Th Fr Sa Su      Mo Tu We Th Fr Sa Su\n",
      "             1  2  3                         1             1  2  3  4  5\n",
      " 4  5  6  7  8  9 10       2  3  4  5  6  7  8       6  7  8  9 10 11 12\n",
      "11 12 13 14 15 16 17       9 10 11 12 13 14 15      13 14 15 16 17 18 19\n",
      "18 19 20 21 22 23 24      16 17 18 19 20 21 22      20 21 22 23 24 25 26\n",
      "25 26 27 28 29 30         23 24 25 26 27 28 29      27 28 29 30\n",
      "                          30 31\n",
      "\n",
      "        July                     August                  September\n",
      "Mo Tu We Th Fr Sa Su      Mo Tu We Th Fr Sa Su      Mo Tu We Th Fr Sa Su\n",
      "             1  2  3       1  2  3  4  5  6  7                1  2  3  4\n",
      " 4  5  6  7  8  9 10       8  9 10 11 12 13 14       5  6  7  8  9 10 11\n",
      "11 12 13 14 15 16 17      15 16 17 18 19 20 21      12 13 14 15 16 17 18\n",
      "18 19 20 21 22 23 24      22 23 24 25 26 27 28      19 20 21 22 23 24 25\n",
      "25 26 27 28 29 30 31      29 30 31                  26 27 28 29 30\n",
      "\n",
      "      October                   November                  December\n",
      "Mo Tu We Th Fr Sa Su      Mo Tu We Th Fr Sa Su      Mo Tu We Th Fr Sa Su\n",
      "                1  2          1  2  3  4  5  6                1  2  3  4\n",
      " 3  4  5  6  7  8  9       7  8  9 10 11 12 13       5  6  7  8  9 10 11\n",
      "10 11 12 13 14 15 16      14 15 16 17 18 19 20      12 13 14 15 16 17 18\n",
      "17 18 19 20 21 22 23      21 22 23 24 25 26 27      19 20 21 22 23 24 25\n",
      "24 25 26 27 28 29 30      28 29 30                  26 27 28 29 30 31\n",
      "31\n"
     ]
    }
   ],
   "source": [
    "import calendar;    \n",
    "cal = calendar.month(2022,6)    \n",
    "print(cal) \n",
    "\n",
    "#To print calendar for year 2022\n",
    "import calendar    \n",
    "s = calendar.prcal(2022)"
   ]
  },
  {
   "cell_type": "code",
   "execution_count": 15,
   "metadata": {},
   "outputs": [
    {
     "name": "stdout",
     "output_type": "stream",
     "text": [
      "2022-11-24 20:00:27.832560\n",
      "5 days, 3:45:45\n",
      "2022-11-29 23:46:12.832560\n"
     ]
    }
   ],
   "source": [
    "# from the datetime library import timedelta which has been aliased as td\n",
    "from datetime import timedelta as td\n",
    "\n",
    "curr_date_time = dt.today()\n",
    "print(curr_date_time)\n",
    "\n",
    "time_diff = td(days=5,hours=3,minutes=45,seconds=45)\n",
    "print(time_diff)\n",
    "# Add time diff to the current time\n",
    "req_date_time = curr_date_time + time_diff\n",
    "\n",
    "print(req_date_time)"
   ]
  },
  {
   "cell_type": "code",
   "execution_count": 17,
   "metadata": {},
   "outputs": [
    {
     "name": "stdout",
     "output_type": "stream",
     "text": [
      "2019-06-01 09:00:00\n",
      "-10 days, 0:00:00\n",
      "2019-05-22 09:00:00\n"
     ]
    }
   ],
   "source": [
    "base_date_time = dt(year=2019,month=6,day=1,hour=9)\n",
    "print(base_date_time)\n",
    "\n",
    "time_diff = td(weeks=-1,days=-3)  # 10 days before\n",
    "print(time_diff)\n",
    "# Subtract time diff to the current time\n",
    "req_date_time = base_date_time + time_diff\n",
    "\n",
    "print(req_date_time)"
   ]
  },
  {
   "cell_type": "code",
   "execution_count": 18,
   "metadata": {},
   "outputs": [
    {
     "name": "stdout",
     "output_type": "stream",
     "text": [
      "-9\n"
     ]
    }
   ],
   "source": [
    "from datetime import date\n",
    "f_date = date(2022, 5, 20)\n",
    "l_date = date(2022, 5, 11)\n",
    "delta = l_date - f_date\n",
    "print(delta.days)"
   ]
  },
  {
   "cell_type": "code",
   "execution_count": 19,
   "metadata": {},
   "outputs": [
    {
     "name": "stdout",
     "output_type": "stream",
     "text": [
      "May\n"
     ]
    }
   ],
   "source": [
    "import datetime\n",
    "x = datetime.datetime(2022, 5, 1)\n",
    "print(x.strftime(\"%B\"))"
   ]
  },
  {
   "cell_type": "code",
   "execution_count": 21,
   "metadata": {},
   "outputs": [
    {
     "name": "stdout",
     "output_type": "stream",
     "text": [
      "2022-03-09 18:45:00\n"
     ]
    }
   ],
   "source": [
    "string = \"9 Mar 2022 18:45:00\"\n",
    "d1 = dt.strptime(string, \"%d %b %Y %H:%M:%S\")\n",
    "print(d1)  # YYYY-MM-DD HH:MM:SS"
   ]
  }
 ],
 "metadata": {
  "kernelspec": {
   "display_name": "Python 3.8.10 64-bit (windows store)",
   "language": "python",
   "name": "python3"
  },
  "language_info": {
   "codemirror_mode": {
    "name": "ipython",
    "version": 3
   },
   "file_extension": ".py",
   "mimetype": "text/x-python",
   "name": "python",
   "nbconvert_exporter": "python",
   "pygments_lexer": "ipython3",
   "version": "3.8.10"
  },
  "orig_nbformat": 4,
  "vscode": {
   "interpreter": {
    "hash": "d8f38a65f95ae979fba470ab93511c61f11d2b36188dbafc11a6a501c4e93194"
   }
  }
 },
 "nbformat": 4,
 "nbformat_minor": 2
}
