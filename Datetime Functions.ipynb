{
 "cells": [
  {
   "cell_type": "markdown",
   "metadata": {},
   "source": [
    "Get Current Date"
   ]
  },
  {
   "cell_type": "code",
   "execution_count": 1,
   "metadata": {},
   "outputs": [],
   "source": [
    "from datetime import date \n",
    "Today = date.today() \n",
    "print(Today)"
   ]
  },
  {
   "cell_type": "markdown",
   "metadata": {},
   "source": [
    "TimeDelta "
   ]
  },
  {
   "cell_type": "code",
   "execution_count": 3,
   "metadata": {},
   "outputs": [
    {
     "data": {
      "text/plain": [
       "120"
      ]
     },
     "execution_count": 3,
     "metadata": {},
     "output_type": "execute_result"
    }
   ],
   "source": [
    "\n",
    "from datetime import datetime\n",
    "from datetime import timedelta\n",
    "  \n",
    "# taking input as the date\n",
    "Begindatestring = \"2020-10-11\"\n",
    "  \n",
    "# carry out conversion between string \n",
    "# to datetime object\n",
    "Begindate = datetime.strptime(Begindatestring, \"%Y-%m-%d\")\n",
    "  \n",
    "# print begin date\n",
    "print(\"Beginning date\")\n",
    "print(Begindate)\n",
    "  \n",
    "# calculating end date by adding 10 days\n",
    "Enddate = Begindate + timedelta(days=10)\n",
    "  \n",
    "# printing end date\n",
    "print(\"Ending date\")\n",
    "print(Enddate)"
   ]
  },
  {
   "cell_type": "markdown",
   "metadata": {},
   "source": [
    "Date Difference "
   ]
  },
  {
   "cell_type": "code",
   "execution_count": null,
   "metadata": {},
   "outputs": [],
   "source": [
    "# Python3 program to find number of days\n",
    "# between two given dates\n",
    "from datetime import date\n",
    "\n",
    "def numOfDays(date1, date2):\n",
    "\treturn (date2-date1).days\n",
    "\t\n",
    "# Driver program\n",
    "date1 = date(2018, 12, 13)\n",
    "date2 = date(2019, 2, 25)\n",
    "print(numOfDays(date1, date2), \"days\")\n"
   ]
  }
 ],
 "metadata": {
  "kernelspec": {
   "display_name": "Python 3.9.7 ('base')",
   "language": "python",
   "name": "python3"
  },
  "language_info": {
   "codemirror_mode": {
    "name": "ipython",
    "version": 3
   },
   "file_extension": ".py",
   "mimetype": "text/x-python",
   "name": "python",
   "nbconvert_exporter": "python",
   "pygments_lexer": "ipython3",
   "version": "3.9.7"
  },
  "orig_nbformat": 4,
  "vscode": {
   "interpreter": {
    "hash": "cc9ec3f49ca67ec5ffe786336c54717ee20d4fd564dd1079878ad90c0d7cca1c"
   }
  }
 },
 "nbformat": 4,
 "nbformat_minor": 2
}
