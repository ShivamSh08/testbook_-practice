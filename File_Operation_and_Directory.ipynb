{
 "cells": [
  {
   "cell_type": "markdown",
   "metadata": {},
   "source": [
    "File Open"
   ]
  },
  {
   "cell_type": "code",
   "execution_count": 7,
   "metadata": {},
   "outputs": [
    {
     "name": "stdout",
     "output_type": "stream",
     "text": [
      "First Method\n",
      "<_io.TextIOWrapper name='file.txt' mode='r' encoding='cp1252'>\n",
      "Second Method\n",
      "<_io.TextIOWrapper name='C:\\\\file.txt' mode='r' encoding='cp1252'>\n"
     ]
    }
   ],
   "source": [
    "#directory:  C:\\TestSeries\\Python\\python_val\n",
    "text_file = open('file.txt','r')\n",
    "\n",
    "#Another method using full location\n",
    "text_file2 = open('C:\\\\file.txt','r')\n",
    "print('First Method')\n",
    "print(text_file)\n",
    "\n",
    "print('Second Method')\n",
    "print(text_file2)"
   ]
  },
  {
   "cell_type": "markdown",
   "metadata": {},
   "source": [
    "File Open and Read"
   ]
  },
  {
   "cell_type": "code",
   "execution_count": 8,
   "metadata": {},
   "outputs": [
    {
     "name": "stdout",
     "output_type": "stream",
     "text": [
      "Hello World \n",
      "\n",
      "Hope you have a great learing \n",
      "\n",
      "GoodLuck !!\n"
     ]
    }
   ],
   "source": [
    "#open the file\n",
    "text_file = open('file.txt','r')\n",
    "\n",
    "#get the list of line\n",
    "line_list = text_file.readlines();\n",
    "\n",
    "#for each line from the list, print the line\n",
    "for line in line_list:\n",
    "    print(line)\n",
    "\n",
    "text_file.close() #don't forget to close the file"
   ]
  },
  {
   "cell_type": "code",
   "execution_count": null,
   "metadata": {},
   "outputs": [],
   "source": [
    "#open the file\n",
    "text_file = open('file.txt','w')\n",
    "\n",
    "#initialize an empty list\n",
    "word_list= []\n",
    "\n",
    "#iterate 4 times\n",
    "print(\"Please enter data: \")\n",
    "line = input() #take input\n",
    "word_list.append(line) #append to the list\n",
    "\n",
    "\n",
    "text_file.writelines(word_list) #write 4 words to the file\n",
    "\n",
    "text_file.close() #don’t forget to close the file"
   ]
  },
  {
   "cell_type": "markdown",
   "metadata": {},
   "source": [
    "Copy File"
   ]
  },
  {
   "cell_type": "code",
   "execution_count": 11,
   "metadata": {},
   "outputs": [
    {
     "name": "stdout",
     "output_type": "stream",
     "text": [
      "File Copy Done\n"
     ]
    }
   ],
   "source": [
    "import shutil\n",
    "\n",
    "shutil.copy2('file.txt', 'C:\\\\Users\\\\akshay.barakoti\\\\Documents\\\\python_sample\\\\file.txt')\n",
    "\n",
    "#another way to copy file\n",
    "\n",
    "#shutil.copyfile('file.txt', 'C:\\\\file.txt')\n",
    "\n",
    "print(\"File Copy Done\")"
   ]
  }
 ],
 "metadata": {
  "kernelspec": {
   "display_name": "Python 3 (ipykernel)",
   "language": "python",
   "name": "python3"
  },
  "language_info": {
   "codemirror_mode": {
    "name": "ipython",
    "version": 3
   },
   "file_extension": ".py",
   "mimetype": "text/x-python",
   "name": "python",
   "nbconvert_exporter": "python",
   "pygments_lexer": "ipython3",
   "version": "3.9.7"
  },
  "orig_nbformat": 4,
  "vscode": {
   "interpreter": {
    "hash": "cc9ec3f49ca67ec5ffe786336c54717ee20d4fd564dd1079878ad90c0d7cca1c"
   }
  }
 },
 "nbformat": 4,
 "nbformat_minor": 2
}
