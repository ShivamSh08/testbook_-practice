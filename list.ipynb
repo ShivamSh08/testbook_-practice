{
 "cells": [
  {
   "cell_type": "markdown",
   "metadata": {},
   "source": [
    "List Declaration "
   ]
  },
  {
   "cell_type": "code",
   "execution_count": 16,
   "metadata": {},
   "outputs": [
    {
     "name": "stdout",
     "output_type": "stream",
     "text": [
      "['Hello', 'World', 'Everyone']\n"
     ]
    }
   ],
   "source": [
    "li=[\"Hello\",\"World\",\"Everyone\"]\n",
    "print(li)"
   ]
  },
  {
   "cell_type": "code",
   "execution_count": 19,
   "metadata": {},
   "outputs": [
    {
     "name": "stdout",
     "output_type": "stream",
     "text": [
      "Hello\n"
     ]
    }
   ],
   "source": [
    "li=[\"Hello\",\"World\",\"Everyone\"]\n",
    "print(li[0])"
   ]
  },
  {
   "cell_type": "code",
   "execution_count": 20,
   "metadata": {},
   "outputs": [
    {
     "name": "stdout",
     "output_type": "stream",
     "text": [
      "['Hello', 'World', 'Everyone']\n",
      "['Hello', 'India', 'Everyone']\n"
     ]
    }
   ],
   "source": [
    "li=[\"Hello\",\"World\",\"Everyone\"]\n",
    "print(li)\n",
    "li[1]=\"India\"\n",
    "print(li)"
   ]
  },
  {
   "cell_type": "code",
   "execution_count": 21,
   "metadata": {},
   "outputs": [
    {
     "name": "stdout",
     "output_type": "stream",
     "text": [
      "['Hello', 1, 9.7, ['Hello', 'World', 45]]\n"
     ]
    }
   ],
   "source": [
    "li=[\"Hello\",1,9.7,[\"Hello\",\"World\",45]]\n",
    "print(li)"
   ]
  },
  {
   "cell_type": "markdown",
   "metadata": {},
   "source": [
    "List Methods"
   ]
  },
  {
   "cell_type": "code",
   "execution_count": 22,
   "metadata": {},
   "outputs": [
    {
     "name": "stdout",
     "output_type": "stream",
     "text": [
      "['Hello', 'World']\n",
      "['Hello', 'World', 'Everyone']\n"
     ]
    }
   ],
   "source": [
    "#Append\n",
    "li=[\"Hello\",\"World\"]\n",
    "print(li)\n",
    "li.append(\"Everyone\")\n",
    "print(li)"
   ]
  },
  {
   "cell_type": "code",
   "execution_count": 23,
   "metadata": {},
   "outputs": [
    {
     "name": "stdout",
     "output_type": "stream",
     "text": [
      "['Hello', 'World']\n",
      "['Hello', 'World', 1, 2, 3, 4, 5]\n"
     ]
    }
   ],
   "source": [
    "#Extend\n",
    "li=[\"Hello\",\"World\"]\n",
    "li1=[1,2,3,4,5]\n",
    "print(li)\n",
    "li.extend(li1)\n",
    "print(li)"
   ]
  },
  {
   "cell_type": "code",
   "execution_count": 27,
   "metadata": {},
   "outputs": [
    {
     "name": "stdout",
     "output_type": "stream",
     "text": [
      "['Hello', 'Everyone']\n"
     ]
    }
   ],
   "source": [
    "#Pop\n",
    "li=[\"Hello\",\"Everyone\",\"World\"]\n",
    "li.pop()\n",
    "print(li)"
   ]
  },
  {
   "cell_type": "code",
   "execution_count": 28,
   "metadata": {},
   "outputs": [
    {
     "name": "stdout",
     "output_type": "stream",
     "text": [
      "['World', 'Everyone', 'Hello']\n"
     ]
    }
   ],
   "source": [
    "#Reverse\n",
    "li=[\"Hello\",\"Everyone\",\"World\"]\n",
    "li.reverse()\n",
    "print(li)"
   ]
  },
  {
   "cell_type": "code",
   "execution_count": 30,
   "metadata": {},
   "outputs": [
    {
     "name": "stdout",
     "output_type": "stream",
     "text": [
      "['Hello', 'World']\n"
     ]
    }
   ],
   "source": [
    "#Remove\n",
    "li=[\"Hello\",\"Everyone\",\"World\"]\n",
    "li.remove(\"Everyone\")\n",
    "print(li)"
   ]
  }
 ],
 "metadata": {
  "kernelspec": {
   "display_name": "Python 3.9.7 ('base')",
   "language": "python",
   "name": "python3"
  },
  "language_info": {
   "codemirror_mode": {
    "name": "ipython",
    "version": 3
   },
   "file_extension": ".py",
   "mimetype": "text/x-python",
   "name": "python",
   "nbconvert_exporter": "python",
   "pygments_lexer": "ipython3",
   "version": "3.9.7"
  },
  "orig_nbformat": 4,
  "vscode": {
   "interpreter": {
    "hash": "cc9ec3f49ca67ec5ffe786336c54717ee20d4fd564dd1079878ad90c0d7cca1c"
   }
  }
 },
 "nbformat": 4,
 "nbformat_minor": 2
}
