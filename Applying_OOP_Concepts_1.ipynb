{
 "cells": [
  {
   "cell_type": "markdown",
   "metadata": {},
   "source": [
    "Applying OOP's Concepts - I"
   ]
  },
  {
   "cell_type": "code",
   "execution_count": 3,
   "metadata": {},
   "outputs": [
    {
     "name": "stdout",
     "output_type": "stream",
     "text": [
      "22\n",
      "23\n",
      "24\n",
      "Age is  24\n",
      "None\n"
     ]
    }
   ],
   "source": [
    "class employee():\n",
    "  def __init__(self,name,age,salary): \n",
    "    self.name = name\n",
    "    self.age = age\n",
    "    self.salary = salary\n",
    "    \n",
    "  def display(self):\n",
    "    print(\"Age is \",self.age)\n",
    "  \n",
    "    \n",
    "class childemployee1(employee):\n",
    "  def __init__(self,name,age,salary):\n",
    "    self.name = name\n",
    "    self.age = age\n",
    "    self.salary = salary\n",
    "    \n",
    "class childemployee2(childemployee1):\n",
    "  def __init__(self, name, age, salary):\n",
    "    self.name = name\n",
    "    self.age = age\n",
    "    self.salary = salary\n",
    "    \n",
    "emp1 = employee('harshit',22,1000)\n",
    "emp2 = childemployee1('arjun',23,2000)\n",
    "emp3 = childemployee2('Rohan',24,4000)\n",
    "print(emp1.age)\n",
    "print(emp2.age)\n",
    "print(emp3.age)\n",
    "print(emp3.display())\n",
    "\n",
    "  \n",
    "  \n"
   ]
  },
  {
   "cell_type": "code",
   "execution_count": 4,
   "metadata": {},
   "outputs": [
    {
     "name": "stdout",
     "output_type": "stream",
     "text": [
      "Petrol\n",
      "Max speed 350\n",
      "Diesel\n",
      "Max speed is 240\n"
     ]
    }
   ],
   "source": [
    "class Ferrari:\n",
    "    def fuel_type(self):\n",
    "        print(\"Petrol\")\n",
    "\n",
    "    def max_speed(self):\n",
    "        print(\"Max speed 350\")\n",
    "\n",
    "class BMW:\n",
    "    def fuel_type(self):\n",
    "        print(\"Diesel\")\n",
    "\n",
    "    def max_speed(self):\n",
    "        print(\"Max speed is 240\")\n",
    "\n",
    "ferrari = Ferrari()\n",
    "bmw = BMW()\n",
    "\n",
    "# iterate objects of same type\n",
    "for car in (ferrari, bmw):\n",
    "    # call methods without checking class of object\n",
    "    car.fuel_type()\n",
    "    car.max_speed()"
   ]
  }
 ],
 "metadata": {
  "kernelspec": {
   "display_name": "Python 3 (ipykernel)",
   "language": "python",
   "name": "python3"
  },
  "language_info": {
   "codemirror_mode": {
    "name": "ipython",
    "version": 3
   },
   "file_extension": ".py",
   "mimetype": "text/x-python",
   "name": "python",
   "nbconvert_exporter": "python",
   "pygments_lexer": "ipython3",
   "version": "3.9.7"
  },
  "orig_nbformat": 4,
  "vscode": {
   "interpreter": {
    "hash": "cc9ec3f49ca67ec5ffe786336c54717ee20d4fd564dd1079878ad90c0d7cca1c"
   }
  }
 },
 "nbformat": 4,
 "nbformat_minor": 2
}
